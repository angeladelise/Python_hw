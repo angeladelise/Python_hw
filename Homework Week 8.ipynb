{
 "cells": [
  {
   "cell_type": "markdown",
   "metadata": {},
   "source": [
    "# Homework Week 8\n",
    "## Media Practices: Programming\n",
    "\n"
   ]
  },
  {
   "cell_type": "markdown",
   "metadata": {
    "collapsed": true
   },
   "source": [
    "### Task 1\n",
    "\n",
    "Draw out a Finite State Machine for a simple DVD player.\n",
    "\n",
    "Inputs are : \n",
    "* Play/pause button, \n",
    "* fast forward button, \n",
    "* rewind button, \n",
    "* mute audio button, \n",
    "* door open switch, \n",
    "* media present sensor\n",
    "\n",
    "Outputs are: \n",
    "* video screen, \n",
    "* audio speaker"
   ]
  },
  {
   "cell_type": "markdown",
   "metadata": {},
   "source": [
    "### Task 2\n",
    "\n",
    "Turn in some notes/ideas on areas you'd like to try to do your project in.\n"
   ]
  },
  {
   "cell_type": "markdown",
   "metadata": {},
   "source": [
    "### Task 3\n",
    "\n",
    "Turn the following into working python. \n",
    "\n",
    "It should test by reading the file data/movieplots.txt so be sure you copy that from my repository as well.\n",
    "\n",
    "### The Algorithm\n",
    "```\n",
    "set sentence_count = 0\n",
    "while not at end of STORY \n",
    "    scan STORY for 'A'..'Z'\n",
    "    when one is found note it's position as CAP_FOUND\n",
    "    scan from  CAP_FOUND for '.' or '?' or '!' or '\"' or end of STORY\n",
    "    if '\"' found from here for '\"' or end of STORY\n",
    "\n",
    "    if end of story found quit\n",
    "    if '.' found if next char a number ignore and continue scanning else increment sentence_count\n",
    "    if '?' or '!'found increment sentence_count\n",
    "\n",
    "```"
   ]
  },
  {
   "cell_type": "code",
   "execution_count": null,
   "metadata": {
    "collapsed": false
   },
   "outputs": [],
   "source": [
    "testfile = open('data/movieplots_100m.txt')\n",
    "test_text = testfile.read()\n",
    "\n",
    "def count_sentences(in_text):\n",
    "    sentence_count = 0\n",
    "    # your code goes here\n",
    "    # remember it's a good idea to embed the algorithm as comments\n",
    "    for line in in_text:\n",
    "        for letter in in_text:\n",
    "            if (letter.isupper()):\n",
    "                CAP_FOUND = in_text.index(letter)\n",
    "                #go from cap found to the end\n",
    "            for letter in range(in_text[CAP_FOUND:]): \n",
    "                if(letter == '.' or letter == '?' or letter == '!' or letter == '\"'):\n",
    "                    if(letter == '.'):\n",
    "                        #record the position of the period\n",
    "                        period = in_text.index(letter)\n",
    "                        #find out if the next char is a number\n",
    "                        if (in_text[period +1] == '0' or in_text[period +1] == '1' or in_text[period +1] == '2' or in_text[period +1] == '3' or in_text[period +1] == '4' or in_text[period +1] == '5' or in_text[period +1] == '6' \n",
    "                            or in_text[period +1] == '7' or in_text[period +1] == '8' or in_text[period +1] == '9'):\n",
    "                            break\n",
    "                        else:\n",
    "                            sentence_count = sentence_count + 1\n",
    "                    if(letter == '?' or letter == '!'):\n",
    "                        sentence_count = sentence_count + 1\n",
    "                                 \n",
    "    \n",
    "    # return the number of sentences\n",
    "    return sentence_count\n",
    "\n",
    "print count_sentences(test_text)"
   ]
  },
  {
   "cell_type": "code",
   "execution_count": null,
   "metadata": {
    "collapsed": true
   },
   "outputs": [],
   "source": [
    "Inputs are :\n",
    "Play/pause button,\n",
    "fast forward button,\n",
    "rewind button,\n",
    "mute audio button,\n",
    "door open switch,\n",
    "media present sensor\n",
    "Outputs are:\n",
    "video screen,\n",
    "audio speaker\n",
    "\n",
    "def video_player(media):\n",
    "    if(media_sensor == true):\n",
    "        if (state == isPlaying):\n",
    "            media = playing\n",
    "            video_screen = on\n",
    "            audio = on\n",
    "            if (pause == pressed):\n",
    "                state = paused\n",
    "            if (fast_forward == pressed):\n",
    "                state = fast_forward\n",
    "            if(rewind == pressed):\n",
    "                state = rewind\n",
    "            if (mute_audio == pressed):\n",
    "                audio = off\n",
    "            if (door_open == pressed):\n",
    "                state = door_open\n",
    "\n",
    "        if (state == paused):\n",
    "            media = paused\n",
    "            video_screen = on\n",
    "            audio = on\n",
    "             if (play== pressed):\n",
    "                state = isPlaying\n",
    "            if (fast_forward == pressed):\n",
    "                state = fast_forward\n",
    "            if(rewind == pressed):\n",
    "                state = rewind\n",
    "            if (mute_audio == pressed):\n",
    "                audio = off\n",
    "            if (door_open == pressed):\n",
    "                state = door_open\n",
    "\n",
    "\n",
    "        if (state == fast_forward):\n",
    "            media = fast_forward\n",
    "            video_screen = on\n",
    "            audio = on\n",
    "            if (play== pressed):\n",
    "                state = isPlaying   \n",
    "            if (pause == pressed):\n",
    "                state = paused\n",
    "            if(rewind == pressed):\n",
    "                state = rewind\n",
    "            if (mute_audio == pressed):\n",
    "                audio = off\n",
    "            if (door_open == pressed):\n",
    "                state = door_open\n",
    "                \n",
    "        \n",
    "        if (state == rewind):\n",
    "            media = rewind\n",
    "            video_screen = on\n",
    "            audio = on\n",
    "            if (play== pressed):\n",
    "                state = isPlaying   \n",
    "            if (pause == pressed):\n",
    "                state = paused\n",
    "            if(fast_forward == pressed):\n",
    "                state = fast_forward\n",
    "            if (mute_audio == pressed):\n",
    "                audio = off\n",
    "            if (door_open == pressed):\n",
    "                state = door_open\n",
    "            \n",
    "        if (state == door_open):\n",
    "            video_screen = off\n",
    "            audio = off\n",
    "            door_open = open\n",
    "            insert_media\n",
    "            door_open = closed\n",
    "            if (media_sensor == true):\n",
    "                videoplayer(media)"
   ]
  },
  {
   "cell_type": "code",
   "execution_count": null,
   "metadata": {
    "collapsed": true
   },
   "outputs": [],
   "source": [
    "Final Project Ideas\n",
    "I am interested in combining Python and Processing for my final. I was thinking of showing an image and then having it\n",
    "degrade over time. The image would disintegrate over time by manipulating the pixels. \n",
    "\n",
    "I would also be interested in creating a sound visualization project. The screen would create different visual effects\n",
    "based on the notes and tone of a song."
   ]
  }
 ],
 "metadata": {
  "kernelspec": {
   "display_name": "Python 2",
   "language": "python",
   "name": "python2"
  },
  "language_info": {
   "codemirror_mode": {
    "name": "ipython",
    "version": 2
   },
   "file_extension": ".py",
   "mimetype": "text/x-python",
   "name": "python",
   "nbconvert_exporter": "python",
   "pygments_lexer": "ipython2",
   "version": "2.7.10"
  }
 },
 "nbformat": 4,
 "nbformat_minor": 0
}
