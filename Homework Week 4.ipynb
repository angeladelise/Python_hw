{
 "cells": [
  {
   "cell_type": "markdown",
   "metadata": {},
   "source": [
    "**Homework Week 4**\n",
    "**Media Practices: Programming**\n",
    "This assignment is mostly about practicing manipulating images and scraping data out of webpages in python. \n"
   ]
  },
  {
   "cell_type": "markdown",
   "metadata": {
    "collapsed": true
   },
   "source": [
    "- Read in data/cc_cat.png\n",
    "- Divide the image into 9 rectangles (3x3)\n",
    "- for the three rectangles row 0 apply a different filter from ImageFilter module\n",
    "- for the three rectangles row 1 apply a different image operation from ImageOps module\n",
    "- for rectangle 0 on row 3, rotate the rectangle 180 degrees\n",
    "- for rectangle 1 on row 3, flip the rectangle vertically\n",
    "- for rectangle 2 on row 3, flip the rectangle horizontally\n"
   ]
  },
  {
   "cell_type": "code",
   "execution_count": 3,
   "metadata": {
    "collapsed": false
   },
   "outputs": [
    {
     "ename": "SyntaxError",
     "evalue": "invalid syntax (<ipython-input-3-9732ac17eb67>, line 42)",
     "output_type": "error",
     "traceback": [
      "\u001b[0;36m  File \u001b[0;32m\"<ipython-input-3-9732ac17eb67>\"\u001b[0;36m, line \u001b[0;32m42\u001b[0m\n\u001b[0;31m    blank.paste(rect2, (int(xsize/3), 0, int(2*xsize/3), int(ysize/3))\u001b[0m\n\u001b[0m        ^\u001b[0m\n\u001b[0;31mSyntaxError\u001b[0m\u001b[0;31m:\u001b[0m invalid syntax\n"
     ]
    }
   ],
   "source": [
    "from PIL import Image\n",
    "from PIL import ImageFilter \n",
    "from PIL import ImageOps\n",
    "\n",
    "cat = Image.open('data/cc_cat.png');\n",
    "xsize, ysize = cat.size\n",
    "\n",
    "\n",
    "\n",
    "\n",
    " #first row\n",
    "rowOne = cat.crop((0,0,xsize, ysize/3))\n",
    "rect1 = cat.crop((0,0,xsize/3, ysize/3))\n",
    "rect2 = cat.crop((xsize/3, 0, 2*xsize/3, ysize/3))\n",
    "rect3 = cat.crop((2*xsize/3, 0, xsize, ysize/3))\n",
    "\n",
    "rect1 = cat.filter(ImageFilter.BLUR)\n",
    "rect2 = cat.filter(ImageFilter.SMOOTH)\n",
    "rect3 = cat.filter(ImageFilter.SHARPEN)\n",
    "\n",
    "#second row\n",
    "rect4 = cat.crop((0,ysize/3,xsize/3, 2*ysize/3))\n",
    "rect5 = cat.crop((xsize/3, ysize/3, 2*xsize/3, 2*ysize/3))\n",
    "rect6 = cat.crop((2*xsize/3, ysize/3, xsize, 2*ysize/3))\n",
    "\n",
    "rect4 = ImageOps.grayscale(rect4)\n",
    "rect5 = ImageOps.mirror(rect5)\n",
    "rect6 = ImageOps.posterize(rect6, 8)\n",
    "\n",
    "#third row\n",
    "rect7 = cat.crop((0,2*ysize/3,xsize/3, ysize))\n",
    "rect8 = cat.crop((xsize/3, 2*ysize/3, 2*xsize/3, ysize))\n",
    "rect9 = cat.crop((2*xsize/3, 2*ysize/3, xsize, ysize))\n",
    "\n",
    "rect7.rotate(180)\n",
    "rect8 = rect8.transpose(Image.FLIP_TOP_BOTTOM)\n",
    "rect9 = rect9.transpose(Image.FLIP_LEFT_RIGHT)\n",
    "\n",
    "blank = Image.new('RGB', (xsize,ysize), \"white\")\n",
    "\n",
    "blank.paste(rect1, (0, 0, xsize/3, ysize/3))\n",
    "blank.paste(rect2, (xsize/3, 0, 2*xsize/3, ysize/3))\n",
    "blank.paste(rect3, (2*xsize/3, 0, xsize, ysize/3))\n",
    "blank.paste(rect4, (0, ysize/3, xsize/3, 2*ysize/3))\n",
    "blank.paste(rect5, (xsize/3, ysize/3, xsize/3, 2*ysize/3))\n",
    "blank.paste(rect6, (2*xsize/3, ysize/3, xsize/3, 2*ysize/3))\n",
    "blank.paste(rect7, (0, 2*ysize/3, xsize/3, ysize))\n",
    "blank.paste(rect8, (xsize/3, 2*ysize/3, xsize/3, ysize))\n",
    "blank.paste(rect9, (2*xsize/3, 2*ysize/3, xsize/3, ysize))\n",
    "\n",
    "\n",
    "blank.show()\n",
    "#cat.show();\n"
   ]
  },
  {
   "cell_type": "markdown",
   "metadata": {
    "collapsed": true
   },
   "source": [
    "**Dictionaries**\n",
    "Given the data below:\n",
    "- Make a dictionary of all prices over 200\n",
    "- Print the keys from that dictionary\n",
    "- Make a dictionary of tech stocks\n",
    "- Print the average price of tech shaares"
   ]
  },
  {
   "cell_type": "code",
   "execution_count": 32,
   "metadata": {
    "collapsed": false
   },
   "outputs": [
    {
     "name": "stdout",
     "output_type": "stream",
     "text": [
      "{'AAPL': 612.78, 'IBM': 205.55}\n",
      "AAPL\n",
      "IBM\n",
      "{'HPQ': 37.2, 'AAPL': 612.78, 'IBM': 205.55}\n",
      "285.176666667\n"
     ]
    }
   ],
   "source": [
    "prices = {\n",
    "   'ACME': 45.23,\n",
    "   'AAPL': 612.78,\n",
    "   'IBM': 205.55,\n",
    "   'HPQ': 37.20,\n",
    "   'FB': 10.75\n",
    "}\n",
    "tech_names = { 'AAPL', 'IBM', 'HPQ', 'MSFT' }\n",
    "\n",
    "highprice = {}\n",
    "\n",
    "techstocks = {}\n",
    "\n",
    "for key in prices:\n",
    "    if (prices[key] > 200):\n",
    "        highprice[key] = prices[key]\n",
    "        #highprice[key].append({key: prices(key)})\n",
    "        #highprice[key].append(prices[key])\n",
    "print highprice\n",
    "\n",
    "    \n",
    "for key in highprice:\n",
    "    print key\n",
    "    \n",
    "    \n",
    "for key in tech_names:\n",
    "    for price in prices:\n",
    "        if key == price:\n",
    "            techstocks[key] = prices[price]\n",
    "print techstocks\n",
    "\n",
    "total = 0\n",
    "count = 0\n",
    "for key in techstocks:\n",
    "    total = techstocks[key] + total\n",
    "    count = count + 1\n",
    "\n",
    "average = total/count\n",
    "print average\n",
    "    \n"
   ]
  },
  {
   "cell_type": "markdown",
   "metadata": {},
   "source": [
    "**Web scraping.**\n",
    "- Add comments about what's going on here. \n",
    "- Then create a dictionary called sales that hasa buyers as keys and prices as values"
   ]
  },
  {
   "cell_type": "code",
   "execution_count": 41,
   "metadata": {
    "collapsed": false
   },
   "outputs": [
    {
     "name": "stdout",
     "output_type": "stream",
     "text": [
      "Buyers:  ['Carson Busses', 'Earl E. Byrd', 'Patty Cakes', 'Derri Anne Connecticut', 'Moe Dess', 'Leda Doggslife', 'Dan Druff', 'Al Fresco', 'Ido Hoe', 'Howie Kisses', 'Len Lease', 'Phil Meup', 'Ira Pent', 'Ben D. Rules', 'Ave Sectomy', 'Gary Shattire', 'Bobbi Soks', 'Sheila Takya', 'Rose Tattoo', 'Moe Tell']\n",
      "Prices:  ['$29.95', '$8.37', '$15.26', '$19.25', '$19.25', '$13.99', '$31.57', '$8.49', '$14.47', '$15.86', '$11.11', '$15.98', '$16.27', '$7.50', '$50.85', '$14.26', '$5.68', '$15.00', '$114.07', '$10.09']\n",
      "{'Leda Doggslife': '$13.99', 'Carson Busses': '$29.95', 'Derri Anne Connecticut': '$19.25', 'Bobbi Soks': '$5.68', 'Ben D. Rules': '$7.50', 'Patty Cakes': '$15.26', 'Ira Pent': '$16.27', 'Moe Tell': '$10.09', 'Ido Hoe': '$14.47', 'Ave Sectomy': '$50.85', 'Phil Meup': '$15.98', 'Al Fresco': '$8.49', 'Moe Dess': '$19.25', 'Sheila Takya': '$15.00', 'Earl E. Byrd': '$8.37', 'Rose Tattoo': '$114.07', 'Gary Shattire': '$14.26', 'Len Lease': '$11.11', 'Howie Kisses': '$15.86', 'Dan Druff': '$31.57'}\n"
     ]
    }
   ],
   "source": [
    "from lxml import html #from the lxml library import html\n",
    "import requests #we will use requests from html\n",
    "page = requests.get('http://econpy.pythonanywhere.com/ex/001.html') #page is equal to the requests we get from that url\n",
    "tree = html.fromstring(page.text) #sets tree equal to strings from the html that are found in page, basically parses page\n",
    "#This will create a list of buyers:\n",
    "buyers = tree.xpath('//div[@title=\"buyer-name\"]/text()') \n",
    "#xpath queries tree to find things under the div tag, with the title buyer-name and sets that equal to buyer\n",
    "#This will create a list of prices\n",
    "prices = tree.xpath('//span[@class=\"item-price\"]/text()')\n",
    "#xpath queries tree to find things under the span tag, with the class item-price and sets that equal to prices\n",
    "print 'Buyers: ', buyers\n",
    "#print buyers with the list of buyers\n",
    "print 'Prices: ', prices\n",
    "#print prices with the list of prices\n",
    "\n",
    "sales = {}\n",
    "\n",
    "for i in range(0, 20, 1):\n",
    "        sales[buyers[i]] = prices[i]\n",
    "print sales"
   ]
  },
  {
   "cell_type": "markdown",
   "metadata": {},
   "source": [
    "This is mostly to see if BeautifulSoup is installed properly.  use www.newschool.edu as the input url\n",
    "\n",
    "If your system doesn't recognize beautifulSoup then you will need to type\n",
    "\n",
    "> conda install beautifulsoup4 \n",
    "\n",
    "in a terminal"
   ]
  },
  {
   "cell_type": "code",
   "execution_count": 29,
   "metadata": {
    "collapsed": false
   },
   "outputs": [
    {
     "name": "stdout",
     "output_type": "stream",
     "text": [
      "Enter a website to extract the URL's from: www.newschool.edu\n",
      "#top\n",
      "None\n",
      "None\n",
      "#\n",
      "/admission/apply-online/\n",
      "/about/contact/\n",
      "https://my.newschool.edu/\n",
      "/about/campus-map/\n",
      "http://courses.newschool.edu\n",
      "/directory/\n",
      "/about/resources-services/\n",
      "/prospective-student-info/\n",
      "/student-info/\n",
      "/parent-info/\n",
      "/alumni-info/\n",
      "/giving/\n",
      "/faculty-info/\n",
      "/employee-info/\n",
      "/parsons/\n",
      "/lang/\n",
      "/performing-arts/\n",
      "/mannes/\n",
      "/jazz/\n",
      "/drama/\n",
      "/nssr/\n",
      "/parsons-paris/\n",
      "/public-engagement/milano-school/\n",
      "/public-engagement/school-of-media-studies/\n",
      "/public-engagement/bachelors-program/\n",
      "/public-engagement/mfa-creative-writing/\n",
      "/public-engagement/school-of-language-learning-teaching/\n",
      "http://social.newschool.edu\n",
      "http://form.jotformpro.com/form/23346135072952\n",
      "#\n",
      "#\n",
      "/\n",
      "/academics/?trigger=design\n",
      "/academics/?trigger=liberal-arts\n",
      "/academics/?trigger=business\n",
      "/academics/?trigger=media\n",
      "/academics/?trigger=performing-arts\n",
      "/academics/?trigger=social-sciences\n",
      "#\n",
      "/about/\n",
      "/academics/\n",
      "/admission/\n",
      "http://events.newschool.edu\n",
      "/giving/\n",
      "http://blogs.newschool.edu/news/\n",
      "http://social.newschool.edu\n",
      "/about/?trigger=video\n",
      "http://blogs.newschool.edu/news/2015/04/parsons-named-best-art-and-design-school-in-the-country/#.VV4JlWRVhBd\n",
      "http://www.newschool.edu/mannes/on-the-move/\n",
      "http://blogs.newschool.edu/news/2015/10/the-new-school-remembers-julien-j-studley/#.ViAER2SrSsq\n",
      "http://blogs.newschool.edu/news/2015/08/lang-lands-on-princeton-reviews-best-college-list/#.VcthcJ1VhBc\n",
      "http://www.newschool.edu/admission/graduate-events/\n",
      "http://blogs.newschool.edu/tedc/2015/10/05/tedc-brings-climatecitizen-to-sxsw-eco/\n",
      "http://www.publicseminar.org/2015/10/just-a-peaceful-quartet/#.Vh8pTIEeLTR\n",
      "http://blogs.newschool.edu/news/2015/09/media-studies-celebrates-40-years/#.VfiMY2RVhBc\n",
      "http://www.newschool.edu/admission/#virtualtour\n"
     ]
    }
   ],
   "source": [
    "from bs4 import BeautifulSoup\n",
    "\n",
    "import requests\n",
    "\n",
    "url = raw_input(\"Enter a website to extract the URL's from: \")\n",
    "\n",
    "r  = requests.get(\"http://\" +url)\n",
    "\n",
    "data = r.text\n",
    "\n",
    "soup = BeautifulSoup(data)\n",
    "\n",
    "for link in soup.find_all('a'):\n",
    "    print(link.get('href'))"
   ]
  },
  {
   "cell_type": "code",
   "execution_count": null,
   "metadata": {
    "collapsed": true
   },
   "outputs": [],
   "source": []
  }
 ],
 "metadata": {
  "kernelspec": {
   "display_name": "Python 2",
   "language": "python",
   "name": "python2"
  },
  "language_info": {
   "codemirror_mode": {
    "name": "ipython",
    "version": 2
   },
   "file_extension": ".py",
   "mimetype": "text/x-python",
   "name": "python",
   "nbconvert_exporter": "python",
   "pygments_lexer": "ipython2",
   "version": "2.7.10"
  }
 },
 "nbformat": 4,
 "nbformat_minor": 0
}
